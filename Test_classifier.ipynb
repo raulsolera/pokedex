{
 "cells": [
  {
   "cell_type": "code",
   "execution_count": 1,
   "metadata": {},
   "outputs": [
    {
     "name": "stderr",
     "output_type": "stream",
     "text": [
      "Using TensorFlow backend.\n"
     ]
    }
   ],
   "source": [
    "# import the necessary packages\n",
    "from keras.preprocessing.image import img_to_array\n",
    "from keras.models import load_model\n",
    "import numpy as np\n",
    "import imutils\n",
    "import pickle\n",
    "import cv2\n",
    "import os\n",
    "import matplotlib.pyplot as plt\n",
    "\n",
    "%matplotlib inline"
   ]
  },
  {
   "cell_type": "code",
   "execution_count": 2,
   "metadata": {},
   "outputs": [],
   "source": [
    "# Constants\n",
    "TEST_IMAGE_DIRECTORY = \"examples\"\n",
    "MODEL = \"pokedex.model\"\n",
    "LABELBIN = \"lb.pickle\"\n",
    "IMAGE_DIMS = (96, 96, 3)"
   ]
  },
  {
   "cell_type": "code",
   "execution_count": 3,
   "metadata": {},
   "outputs": [],
   "source": [
    "# Load the trained convolutional neural network and the label binarizer\n",
    "model = load_model(MODEL)\n",
    "lb = pickle.loads(open(LABELBIN, \"rb\").read())"
   ]
  },
  {
   "cell_type": "code",
   "execution_count": 4,
   "metadata": {},
   "outputs": [],
   "source": [
    "# Paths to testing images\n",
    "test_images_paths = [os.path.join(TEST_IMAGE_DIRECTORY, f)\n",
    "                     for f in os.listdir(TEST_IMAGE_DIRECTORY)]\n",
    "test_images_paths.sort()"
   ]
  },
  {
   "cell_type": "code",
   "execution_count": 5,
   "metadata": {},
   "outputs": [
    {
     "ename": "AttributeError",
     "evalue": "'NoneType' object has no attribute 'copy'",
     "output_type": "error",
     "traceback": [
      "\u001b[0;31m---------------------------------------------------------------------------\u001b[0m",
      "\u001b[0;31mAttributeError\u001b[0m                            Traceback (most recent call last)",
      "\u001b[0;32m<ipython-input-5-158e3d299f22>\u001b[0m in \u001b[0;36m<module>\u001b[0;34m()\u001b[0m\n\u001b[1;32m      7\u001b[0m     \u001b[0;31m# Load the image and save a copy before resizing\u001b[0m\u001b[0;34m\u001b[0m\u001b[0;34m\u001b[0m\u001b[0m\n\u001b[1;32m      8\u001b[0m     \u001b[0mimage\u001b[0m \u001b[0;34m=\u001b[0m \u001b[0mcv2\u001b[0m\u001b[0;34m.\u001b[0m\u001b[0mimread\u001b[0m\u001b[0;34m(\u001b[0m\u001b[0mimage_path\u001b[0m\u001b[0;34m)\u001b[0m\u001b[0;34m\u001b[0m\u001b[0m\n\u001b[0;32m----> 9\u001b[0;31m     \u001b[0moutput\u001b[0m \u001b[0;34m=\u001b[0m \u001b[0mimage\u001b[0m\u001b[0;34m.\u001b[0m\u001b[0mcopy\u001b[0m\u001b[0;34m(\u001b[0m\u001b[0;34m)\u001b[0m\u001b[0;34m\u001b[0m\u001b[0m\n\u001b[0m\u001b[1;32m     10\u001b[0m \u001b[0;34m\u001b[0m\u001b[0m\n\u001b[1;32m     11\u001b[0m     \u001b[0;31m# Pre-process the image for classification\u001b[0m\u001b[0;34m\u001b[0m\u001b[0;34m\u001b[0m\u001b[0m\n",
      "\u001b[0;31mAttributeError\u001b[0m: 'NoneType' object has no attribute 'copy'"
     ]
    }
   ],
   "source": [
    "# Classify images\n",
    "labels = []\n",
    "images = []\n",
    "\n",
    "for image_path in test_images_paths:\n",
    "\n",
    "    # Load the image and save a copy before resizing\n",
    "    image = cv2.imread(image_path)\n",
    "    output = image.copy()\n",
    "    \n",
    "    # Pre-process the image for classification\n",
    "    image = cv2.resize(image, (IMAGE_DIMS[1], IMAGE_DIMS[0]))\n",
    "    image = image.astype(\"float\") / 255.0\n",
    "    image = img_to_array(image)\n",
    "    image = np.expand_dims(image, axis=0)    \n",
    "    \n",
    "    # Classify the input image\n",
    "    proba = model.predict(image)[0]\n",
    "    idx = np.argmax(proba)\n",
    "    label = lb.classes_[idx]\n",
    "        \n",
    "    # Original image\n",
    "    output = imutils.resize(output, width=400)\n",
    "    output = cv2.cvtColor(output, cv2.COLOR_BGR2RGB)\n",
    "    images.append(output)\n",
    "    \n",
    "    # we'll mark our prediction as \"correct\" of the input image filename\n",
    "    # contains the predicted label text (obviously this makes the\n",
    "    # assumption that you have named your testing image files this way)\n",
    "    filename = image_path[image_path.rfind(os.path.sep) + 1:]\n",
    "    if filename.rfind(label) != -1:\n",
    "        correct = \"correct\"\n",
    "        label_color = \"G\"\n",
    "    else:\n",
    "        correct = \"incorrect\"\n",
    "        label_color = \"R\"\n",
    "    label = \"{}: {:.2f}% ({})\".format(label, proba[idx] * 100, correct)\n",
    "    labels.append((label, label_color))"
   ]
  },
  {
   "cell_type": "code",
   "execution_count": null,
   "metadata": {},
   "outputs": [],
   "source": [
    "# Show results\n",
    "num_cols = 3\n",
    "num_rows = 5\n",
    "fig, axes = plt.subplots(num_rows, num_cols, figsize=(10,20))\n",
    "\n",
    "for idx, (label, label_color) in zip(range(len(images)), labels):\n",
    "    col = idx%num_cols\n",
    "    row = int((idx - col)/num_cols)\n",
    "    ax = axes[row,col]\n",
    "    ax.axis('off')\n",
    "    ax.imshow(images[idx])\n",
    "    ax.set_title(label, color = label_color, fontsize = 12)\n",
    "    ax.set_anchor('N')"
   ]
  }
 ],
 "metadata": {
  "kernelspec": {
   "display_name": "Python [conda env:sdc]",
   "language": "python",
   "name": "conda-env-sdc-py"
  },
  "language_info": {
   "codemirror_mode": {
    "name": "ipython",
    "version": 3
   },
   "file_extension": ".py",
   "mimetype": "text/x-python",
   "name": "python",
   "nbconvert_exporter": "python",
   "pygments_lexer": "ipython3",
   "version": "3.5.4"
  }
 },
 "nbformat": 4,
 "nbformat_minor": 2
}
